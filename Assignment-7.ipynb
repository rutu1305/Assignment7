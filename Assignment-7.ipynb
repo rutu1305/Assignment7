{
 "cells": [
  {
   "cell_type": "code",
   "execution_count": null,
   "id": "3650a0d1-cfbf-476b-bf06-55494900f02b",
   "metadata": {},
   "outputs": [],
   "source": [
    "1.\n",
    "import re\n",
    "password = \"RUtu@$_199\"\n",
    "flag = 0\n",
    "while True:\n",
    "    if (len(password)<=8):\n",
    "        flag = -1\n",
    "        break\n",
    "    elif not re.search(\"[a-z]\", password):\n",
    "        flag = -1\n",
    "        break\n",
    "    elif not re.search(\"[A-Z]\", password):\n",
    "        flag = -1\n",
    "        break\n",
    "    elif not re.search(\"[0-9]\", password):\n",
    "        flag = -1\n",
    "        break\n",
    "    elif not re.search(\"[_@$]\" , password):\n",
    "        flag = -1\n",
    "        break\n",
    "    elif re.search(\"\\s\" , password):\n",
    "        flag = -1\n",
    "        break\n",
    "    else:\n",
    "        flag = 0\n",
    "        print(\"Valid Password\")\n",
    "        break\n",
    " \n",
    "if flag == -1:\n",
    "    print(\"Not a Valid Password \")\n"
   ]
  },
  {
   "cell_type": "code",
   "execution_count": null,
   "id": "8f007999-d89e-42a7-99b2-74a3ceef5be4",
   "metadata": {},
   "outputs": [],
   "source": [
    "2.\n",
    "* starts_with = lambda x: True if x.startswith('I') else False\n",
    "print(starts_with(India))\n",
    "starts_with = lambda x: True if x.startswith('X') else False\n",
    "print(starts_with(England))\n",
    "\n",
    "* is_num = lambda q: q.replace('.','',1).isdigit()\n",
    "print(is_num('26587'))\n",
    "print(is_num('4.2365'))\n",
    "print(is_num('-12547'))\n",
    "print(is_num('00'))\n",
    "print(is_num('A001'))\n",
    "print(is_num('001'))\n",
    "print(\"\\nPrint checking numbers:\")\n",
    "is_num1 = lambda r: is_num(r[1:]) if r[0]=='-' else is_num(r)\n",
    "print(is_num1('-16.4'))\n",
    "print(is_num1('-24587.11'))\n",
    "\n",
    "* # Initializing list\n",
    "l = [1, 2, 3, 4]\n",
    "# Cube List using loop\n",
    "res = []\n",
    "for i in l:\n",
    "    res.append(i*i*i)\n",
    "# printing result\n",
    "print(res)\n",
    "\n",
    "* num = 8 \n",
    "# To take the input from the user\n",
    "#num = float(input('Enter a number: '))\n",
    "num_sqrt = num ** 0.5\n",
    "print('The square root of %0.3f is %0.3f'%(num ,num_sqrt))"
   ]
  }
 ],
 "metadata": {
  "kernelspec": {
   "display_name": "Python 3 (ipykernel)",
   "language": "python",
   "name": "python3"
  },
  "language_info": {
   "codemirror_mode": {
    "name": "ipython",
    "version": 3
   },
   "file_extension": ".py",
   "mimetype": "text/x-python",
   "name": "python",
   "nbconvert_exporter": "python",
   "pygments_lexer": "ipython3",
   "version": "3.10.8"
  }
 },
 "nbformat": 4,
 "nbformat_minor": 5
}
